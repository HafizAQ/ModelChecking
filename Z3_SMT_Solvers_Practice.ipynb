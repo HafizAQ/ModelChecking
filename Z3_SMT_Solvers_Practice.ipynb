{
  "nbformat": 4,
  "nbformat_minor": 0,
  "metadata": {
    "colab": {
      "provenance": [],
      "authorship_tag": "ABX9TyNE2P40RL3yYofRjaCzSjL9",
      "include_colab_link": true
    },
    "kernelspec": {
      "name": "python3",
      "display_name": "Python 3"
    },
    "language_info": {
      "name": "python"
    }
  },
  "cells": [
    {
      "cell_type": "markdown",
      "metadata": {
        "id": "view-in-github",
        "colab_type": "text"
      },
      "source": [
        "<a href=\"https://colab.research.google.com/github/HafizAQ/ModelChecking_Practices/blob/main/Z3_SMT_Solvers_Practice.ipynb\" target=\"_parent\"><img src=\"https://colab.research.google.com/assets/colab-badge.svg\" alt=\"Open In Colab\"/></a>"
      ]
    },
    {
      "cell_type": "markdown",
      "source": [
        "**Courtesy:** https://www.youtube.com/watch?v=EacYNe7moSs"
      ],
      "metadata": {
        "id": "ldWUtDdzLJn1"
      }
    },
    {
      "cell_type": "code",
      "source": [
        "pip install z3-solver"
      ],
      "metadata": {
        "colab": {
          "base_uri": "https://localhost:8080/"
        },
        "id": "FQrljhPaMI1O",
        "outputId": "cd629200-2abe-4ef4-d0f3-a475c9787bca"
      },
      "execution_count": 3,
      "outputs": [
        {
          "output_type": "stream",
          "name": "stdout",
          "text": [
            "Collecting z3-solver\n",
            "  Downloading z3_solver-4.13.4.0-py3-none-manylinux_2_17_x86_64.manylinux2014_x86_64.whl.metadata (602 bytes)\n",
            "Downloading z3_solver-4.13.4.0-py3-none-manylinux_2_17_x86_64.manylinux2014_x86_64.whl (29.0 MB)\n",
            "\u001b[2K   \u001b[90m━━━━━━━━━━━━━━━━━━━━━━━━━━━━━━━━━━━━━━━━\u001b[0m \u001b[32m29.0/29.0 MB\u001b[0m \u001b[31m62.2 MB/s\u001b[0m eta \u001b[36m0:00:00\u001b[0m\n",
            "\u001b[?25hInstalling collected packages: z3-solver\n",
            "Successfully installed z3-solver-4.13.4.0\n"
          ]
        }
      ]
    },
    {
      "cell_type": "code",
      "execution_count": 5,
      "metadata": {
        "id": "FZ0nzo1HlCD7"
      },
      "outputs": [],
      "source": [
        "# S = Square, C = Circle, T = Triangle\n",
        "# S * S + C = 16\n",
        "# T * T * T = 27\n",
        "# T * S = 6\n",
        "# S * C * T = ?\n",
        "\n",
        "from z3 import *"
      ]
    },
    {
      "cell_type": "code",
      "source": [
        "s = Int('square')\n",
        "t = Int('triangle')\n",
        "c = Int('circle')\n",
        "\n",
        "solve = Solver()\n",
        "solve.add(s * s + c == 16)\n",
        "solve.add(t * t * t == 27)\n",
        "solve.add(t * s == 6)\n",
        "print(solve.check())\n",
        "print(solve.model())\n",
        "\n",
        "if solve.check() == sat:\n",
        "  model = solve.model()\n",
        "\n",
        "  # convert to int\n",
        "  c_val = model.evaluate(c).as_long()\n",
        "  s_val = model.evaluate(s).as_long()\n",
        "  t_val = model.evaluate(t).as_long()\n",
        "\n",
        "  result = s_val * c_val * t_val\n",
        "  print(result)"
      ],
      "metadata": {
        "colab": {
          "base_uri": "https://localhost:8080/"
        },
        "id": "3FGcg5OkMCOC",
        "outputId": "30ec2f48-d50e-4dde-90e8-a7c889951c47"
      },
      "execution_count": 12,
      "outputs": [
        {
          "output_type": "stream",
          "name": "stdout",
          "text": [
            "sat\n",
            "[circle = 12, triangle = 3, square = 2]\n",
            "72\n"
          ]
        }
      ]
    },
    {
      "cell_type": "code",
      "source": [],
      "metadata": {
        "id": "f1EeIUXJNSTR"
      },
      "execution_count": null,
      "outputs": []
    }
  ]
}