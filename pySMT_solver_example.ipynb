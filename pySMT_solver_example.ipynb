{
  "nbformat": 4,
  "nbformat_minor": 0,
  "metadata": {
    "colab": {
      "provenance": [],
      "authorship_tag": "ABX9TyPd5QSMWJHwAu8oOIu3pH5b",
      "include_colab_link": true
    },
    "kernelspec": {
      "name": "python3",
      "display_name": "Python 3"
    },
    "language_info": {
      "name": "python"
    }
  },
  "cells": [
    {
      "cell_type": "markdown",
      "metadata": {
        "id": "view-in-github",
        "colab_type": "text"
      },
      "source": [
        "<a href=\"https://colab.research.google.com/github/HafizAQ/ModelChecking_Practices/blob/main/pySMT_solver_example.ipynb\" target=\"_parent\"><img src=\"https://colab.research.google.com/assets/colab-badge.svg\" alt=\"Open In Colab\"/></a>"
      ]
    },
    {
      "cell_type": "markdown",
      "source": [
        "**Courtesy:** https://www.youtube.com/watch?v=H3tsP9tjYdY&list=TLPQMDEwMjIwMjVbP-KVKEEyYA&index=1\n",
        "\n",
        "**SMT (Satisfiability Modulo Theory)** Python library"
      ],
      "metadata": {
        "id": "0CfKCu5P2_9o"
      }
    },
    {
      "cell_type": "code",
      "execution_count": 3,
      "metadata": {
        "colab": {
          "base_uri": "https://localhost:8080/"
        },
        "id": "b9XR7OvdujzX",
        "outputId": "9604e194-3ff9-4312-8788-ecd917adfdb5"
      },
      "outputs": [
        {
          "output_type": "stream",
          "name": "stdout",
          "text": [
            "Requirement already satisfied: pySMT in /usr/local/lib/python3.11/dist-packages (0.9.6)\n"
          ]
        }
      ],
      "source": [
        "pip install pySMT"
      ]
    },
    {
      "cell_type": "code",
      "source": [
        "from pysmt.shortcuts import Symbol, INT, And, GE, LT, Plus # Import Plus along with other functions\n",
        "hello = [Symbol(s, INT) for s in \"hello\"]\n",
        "world = [Symbol(s, INT) for s in \"world\"]"
      ],
      "metadata": {
        "id": "RfEMpgzm34rz"
      },
      "execution_count": 33,
      "outputs": []
    },
    {
      "cell_type": "code",
      "source": [
        "print(type(hello))\n",
        "print(hello)\n",
        "letters = set(hello + world)\n",
        "print(type(letters))\n",
        "print(letters)"
      ],
      "metadata": {
        "colab": {
          "base_uri": "https://localhost:8080/"
        },
        "id": "mlnM2K8A4_p3",
        "outputId": "87027a93-e70e-4ccb-fac4-f655d0307ea7"
      },
      "execution_count": 34,
      "outputs": [
        {
          "output_type": "stream",
          "name": "stdout",
          "text": [
            "<class 'list'>\n",
            "[h, e, l, l, o]\n",
            "<class 'set'>\n",
            "{h, e, l, o, w, r, d}\n"
          ]
        }
      ]
    },
    {
      "cell_type": "code",
      "source": [
        "domains = And([And(GE(l, INT(1)), LT(l, INT(10))) for l in letters])"
      ],
      "metadata": {
        "collapsed": true,
        "id": "2OTC46hj54Yb"
      },
      "execution_count": null,
      "outputs": []
    },
    {
      "cell_type": "code",
      "source": [
        "sum_hello = Plus(hello)\n",
        "sum_world = Plus(world)\n",
        "\n",
        "\n",
        "problem = And(Equals(sum_hello, sum_world), Equals(sum_hello, INT(25)))\n",
        "\n",
        "formula = And(domains, problem)"
      ],
      "metadata": {
        "collapsed": true,
        "id": "Wit5YobD9Chq"
      },
      "execution_count": null,
      "outputs": []
    },
    {
      "cell_type": "code",
      "source": [
        "print(\"Serialization of the formula:\")\n",
        "print(formula)"
      ],
      "metadata": {
        "collapsed": true,
        "id": "W05A75RK-PrK"
      },
      "execution_count": null,
      "outputs": []
    },
    {
      "cell_type": "code",
      "source": [
        "model = get_model(formula)\n",
        "\n",
        "if model:\n",
        "  print(model)\n",
        "else:\n",
        "  print(\"No solution found\")"
      ],
      "metadata": {
        "collapsed": true,
        "id": "zgEUCwrE_G5l"
      },
      "execution_count": null,
      "outputs": []
    },
    {
      "cell_type": "code",
      "source": [],
      "metadata": {
        "id": "EFQVMuR7_X1X"
      },
      "execution_count": null,
      "outputs": []
    }
  ]
}